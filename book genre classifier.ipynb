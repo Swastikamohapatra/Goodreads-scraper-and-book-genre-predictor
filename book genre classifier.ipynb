{
 "cells": [
  {
   "cell_type": "code",
   "execution_count": 5,
   "id": "d9b47316",
   "metadata": {},
   "outputs": [],
   "source": [
    "%matplotlib inline\n",
    "import warnings\n",
    "warnings.filterwarnings(\"ignore\")\n",
    "\n",
    "\n",
    "\n",
    "import sqlite3\n",
    "import pandas as pd\n",
    "import numpy as np\n",
    "import nltk\n",
    "import string\n",
    "import matplotlib.pyplot as plt\n",
    "import seaborn as sns\n",
    "from sklearn.feature_extraction.text import TfidfTransformer\n",
    "from sklearn.feature_extraction.text import TfidfVectorizer\n",
    "\n",
    "from sklearn.feature_extraction.text import CountVectorizer\n",
    "from sklearn.metrics import confusion_matrix\n",
    "from sklearn import metrics\n",
    "from sklearn.metrics import roc_curve, auc\n",
    "from nltk.stem.porter import PorterStemmer\n",
    "\n",
    "import re\n",
    "# Tutorial about Python regular expressions: https://pymotw.com/2/re/\n",
    "import string\n",
    "from nltk.corpus import stopwords\n",
    "from nltk.stem import PorterStemmer\n",
    "from nltk.stem.wordnet import WordNetLemmatizer\n",
    "\n",
    "from gensim.models import Word2Vec\n",
    "from gensim.models import KeyedVectors\n",
    "import pickle\n",
    "\n",
    "from tqdm import tqdm\n",
    "import os"
   ]
  },
  {
   "cell_type": "code",
   "execution_count": 6,
   "id": "9ab1f65f",
   "metadata": {},
   "outputs": [
    {
     "name": "stdout",
     "output_type": "stream",
     "text": [
      "(7200, 2)\n"
     ]
    },
    {
     "data": {
      "text/plain": [
       "summary     893\n",
       "Genre      1274\n",
       "dtype: int64"
      ]
     },
     "execution_count": 6,
     "metadata": {},
     "output_type": "execute_result"
    }
   ],
   "source": [
    "df = pd.read_csv(r'book_info.csv')\n",
    "df.drop(['Title', 'Author', 'Average Rating', 'No of ratings', 'No of reviews', 'No of pages', 'No of awards', 'Unnamed: 0', 'Unnamed: 0.1'], axis=1, inplace=True)\n",
    "print(df.shape)\n",
    "df.isna().sum()"
   ]
  },
  {
   "cell_type": "code",
   "execution_count": 7,
   "id": "8ed90a79",
   "metadata": {},
   "outputs": [],
   "source": [
    "initial = df.shape[0]"
   ]
  },
  {
   "cell_type": "code",
   "execution_count": 8,
   "id": "743b0944",
   "metadata": {},
   "outputs": [
    {
     "data": {
      "text/plain": [
       "(5903, 2)"
      ]
     },
     "execution_count": 8,
     "metadata": {},
     "output_type": "execute_result"
    }
   ],
   "source": [
    "df.dropna(inplace=True)\n",
    "df.shape"
   ]
  },
  {
   "cell_type": "code",
   "execution_count": 9,
   "id": "3f663b8a",
   "metadata": {},
   "outputs": [
    {
     "data": {
      "text/plain": [
       "array(['fantasy', 'young-adult', 'fiction', 'historical', 'non-fiction',\n",
       "       'sequential-art', 'science-fiction', 'humor', 'horror', 'thriller',\n",
       "       'romance', 'autobiography', 'history', 'mystery', 'drama',\n",
       "       'suspense', 'womens-fiction', 'poetry', 'music', 'polyamorous',\n",
       "       'christian', 'short-stories', 'food-and-drink', 'travel',\n",
       "       'adventure', 'christian-fiction', 'biography', 'cultural',\n",
       "       'business', 'paranormal', 'science-fiction-fantasy',\n",
       "       'realistic-fiction', 'new-adult', 'art', 'dark', 'classics',\n",
       "       'parenting', 'contemporary', 'childrens', 'philosophy',\n",
       "       'psychology', 'science', 'erotica', 'spirituality', 'politics',\n",
       "       'plays', 'lgbt', 'epic', 'religion', 'environment', 'lds',\n",
       "       'health', 'cities', 'education', 'economics', 'self-help',\n",
       "       'holiday', 'crime', 'novels', 'feminism', 'media-tie-in',\n",
       "       'adult-fiction', 'neurodiversity', 'christianity', 'games',\n",
       "       'academic', 'animals', 'westerns', 'world-war-ii',\n",
       "       'computer-science', 'sports', 'reference', 'leadership', 'war',\n",
       "       'european-literature', 'marriage', 'sports-and-games',\n",
       "       'relationships', 'humanities', 'writing', 'amish', 'inspirational',\n",
       "       'eastern-africa', 'architecture', 'language', 'military-history',\n",
       "       'sexuality', 'shapeshifters', 'folklore', 'literature', 'american',\n",
       "       'sociology', 'family-law', 'anthologies', 'comics'], dtype=object)"
      ]
     },
     "execution_count": 9,
     "metadata": {},
     "output_type": "execute_result"
    }
   ],
   "source": [
    "df['Genre'].unique()"
   ]
  },
  {
   "cell_type": "markdown",
   "id": "b7836d0a",
   "metadata": {},
   "source": [
    "As there are a large number of genre categories, we will club the similar ones together-\n",
    "1. fantasy - shapeshifters, science-fiction-fantasy\n",
    "2. young-adult - new-adult\n",
    "3. fiction - womens-fiction, sequential-art, short-stories, childrens, christian-fiction, adult-fiction, realistic-fiction,\n",
    "contemporary, drama, anthologies, comics\n",
    "4. historical - history\n",
    "5. romance\n",
    "6. mystery - thriller, crime, war, suspense, adventure\n",
    "7. science-fiction\n",
    "8. classics\n",
    "9. horror - paranormal\n",
    "10. non-fiction - politics, biography, philosophy, self-help, autobiography, cultural, science, music, business, psychology, \n",
    "parenting, health, sports, travel, art, lgbt, holiday, food-and-drink, economics, animals, feminism, marriage, education,\n",
    "humanities, academic, language, sexuality, literature, sports-and-games, amish, computer-science, games, environment, \n",
    "family-law, sociology, american, military-history, architecture, leadership, eastern-africa, inspirational, writing, cities, \n",
    "relationships, neurodiversity, world-war-ii, \n",
    "11. religion - spirituality, christian, christianity, lds\n",
    "\n",
    "\n",
    "Some of the categories have very few books in them. Thus we'll be dropping all such categories-\n",
    "\n",
    "reference                    \n",
    "epic                         \n",
    "folklore              \n",
    "neurodiversity        \n",
    "westerns                \n",
    "dark                \n",
    "plays                      \n",
    "polyamorous          \n",
    "european-literature         \n",
    "erotica                  \n",
    "humor                   \n",
    "poetry                      \n",
    "novels                      \n",
    "media-tie-in               \n"
   ]
  },
  {
   "cell_type": "code",
   "execution_count": 10,
   "id": "1b019d57",
   "metadata": {},
   "outputs": [],
   "source": [
    "df[\"Genre\"].replace({\"history\":\"historical\", \"shapeshifters\":\"fantasy\", \"science-fiction-fantasy\":\"fantasy\", \"new-adult\":\"young-adult\", \"thriller\":\"mystery\", \"crime\":\"mystery\", \"war\":\"mystery\", \"suspense\":\"mystery\", \"adventure\":\"mystery\", \"paranormal\":\"horror\", \"spirituality\":\"religion\", \"christian\":\"religion\", \"christianity\":\"religion\", \"lds\":\"religion\"}, inplace=True)\n",
    "for i in [\"womens-fiction\",\"sequential-art\",\"short-stories\",\"childrens\",\"christian-fiction\",\"adult-fiction\",\"realistic-fiction\",\"contemporary\",\"drama\",\"anthologies\",\"comics\"]:\n",
    "    df[\"Genre\"].replace({i:\"fiction\"}, inplace=True)\n",
    "for j in [\"politics\", \"biography\", \"philosophy\", \"self-help\", \"autobiography\", \"cultural\", \"science\", \"music\", \"business\", \"psychology\", \"parenting\", \"health\", \"sports\", \"travel\", \"art\", \"lgbt\", \"holiday\", \"food-and-drink\", \"economics\", \"animals\", \"feminism\", \"marriage\", \"education\", \"humanities\", \"academic\", \"language\", \"sexuality\", \"literature\", \"sports-and-games\", \"amish\", \"computer-science\", \"games\", \"environment\", \"family-law\", \"sociology\", \"american\", \"military-history\", \"architecture\", \"leadership\", \"eastern-africa\", \"inspirational\", \"writing\", \"cities\", \"relationships\", \"neurodiversity\", \"world-war-ii\"]:\n",
    "    df[\"Genre\"].replace({j:\"non-fiction\"}, inplace=True)"
   ]
  },
  {
   "cell_type": "code",
   "execution_count": 11,
   "id": "62a73ea2",
   "metadata": {},
   "outputs": [],
   "source": [
    "rejected = [\"reference\", \"epic\", \"folklore\", \"neurodiversity\", \"westerns\", \"dark\", \"plays\", \"polyamorous\", \"european-literature\", \"erotica\", \"humor\", \"poetry\", \"novels\", \"media-tie-in\"]\n",
    "for i in rejected :\n",
    "    indexvalue = df[df['Genre'] == i].index\n",
    "    df.drop(indexvalue , inplace=True)"
   ]
  },
  {
   "cell_type": "code",
   "execution_count": 12,
   "id": "40f2f19e",
   "metadata": {},
   "outputs": [
    {
     "data": {
      "text/plain": [
       "fiction            1538\n",
       "fantasy             928\n",
       "non-fiction         812\n",
       "young-adult         614\n",
       "historical          447\n",
       "mystery             353\n",
       "romance             339\n",
       "horror              223\n",
       "science-fiction     201\n",
       "classics            188\n",
       "religion            116\n",
       "Name: Genre, dtype: int64"
      ]
     },
     "execution_count": 12,
     "metadata": {},
     "output_type": "execute_result"
    }
   ],
   "source": [
    "df['Genre'].value_counts()"
   ]
  },
  {
   "cell_type": "code",
   "execution_count": 13,
   "id": "3652bf38",
   "metadata": {},
   "outputs": [
    {
     "data": {
      "text/plain": [
       "(5759, 2)"
      ]
     },
     "execution_count": 13,
     "metadata": {},
     "output_type": "execute_result"
    }
   ],
   "source": [
    "df.shape"
   ]
  },
  {
   "cell_type": "code",
   "execution_count": 14,
   "id": "a2c77245",
   "metadata": {},
   "outputs": [
    {
     "data": {
      "text/plain": [
       "11"
      ]
     },
     "execution_count": 14,
     "metadata": {},
     "output_type": "execute_result"
    }
   ],
   "source": [
    "final = df.shape[0]\n",
    "len(df['Genre'].unique())"
   ]
  },
  {
   "cell_type": "markdown",
   "id": "958e4540",
   "metadata": {},
   "source": [
    "Thus, now we have 11 genres of books in our dataset"
   ]
  },
  {
   "cell_type": "code",
   "execution_count": 15,
   "id": "2a5746be",
   "metadata": {},
   "outputs": [
    {
     "data": {
      "text/plain": [
       "79.98611111111111"
      ]
     },
     "execution_count": 15,
     "metadata": {},
     "output_type": "execute_result"
    }
   ],
   "source": [
    "#Percentage of data retained after cleaning\n",
    "(final/initial)*100"
   ]
  },
  {
   "cell_type": "code",
   "execution_count": 16,
   "id": "40ec77ab",
   "metadata": {},
   "outputs": [
    {
     "name": "stdout",
     "output_type": "stream",
     "text": [
      "<class 'pandas.core.frame.DataFrame'>\n",
      "Int64Index: 5759 entries, 0 to 7199\n",
      "Data columns (total 2 columns):\n",
      " #   Column   Non-Null Count  Dtype \n",
      "---  ------   --------------  ----- \n",
      " 0   summary  5759 non-null   object\n",
      " 1   Genre    5759 non-null   object\n",
      "dtypes: object(2)\n",
      "memory usage: 135.0+ KB\n"
     ]
    }
   ],
   "source": [
    "df.info()"
   ]
  },
  {
   "cell_type": "code",
   "execution_count": 17,
   "id": "6e26ffa7",
   "metadata": {},
   "outputs": [
    {
     "data": {
      "text/html": [
       "<div>\n",
       "<style scoped>\n",
       "    .dataframe tbody tr th:only-of-type {\n",
       "        vertical-align: middle;\n",
       "    }\n",
       "\n",
       "    .dataframe tbody tr th {\n",
       "        vertical-align: top;\n",
       "    }\n",
       "\n",
       "    .dataframe thead th {\n",
       "        text-align: right;\n",
       "    }\n",
       "</style>\n",
       "<table border=\"1\" class=\"dataframe\">\n",
       "  <thead>\n",
       "    <tr style=\"text-align: right;\">\n",
       "      <th></th>\n",
       "      <th>summary</th>\n",
       "      <th>Genre</th>\n",
       "    </tr>\n",
       "  </thead>\n",
       "  <tbody>\n",
       "    <tr>\n",
       "      <th>0</th>\n",
       "      <td>It's no longer safe for Harry at Hogwarts, so ...</td>\n",
       "      <td>fantasy</td>\n",
       "    </tr>\n",
       "    <tr>\n",
       "      <th>1</th>\n",
       "      <td>Could you survive on your own in the wild, wit...</td>\n",
       "      <td>young-adult</td>\n",
       "    </tr>\n",
       "    <tr>\n",
       "      <th>2</th>\n",
       "      <td>The unforgettable, heartbreaking story of the ...</td>\n",
       "      <td>fiction</td>\n",
       "    </tr>\n",
       "    <tr>\n",
       "      <th>3</th>\n",
       "      <td>Librarian's note: An alternate cover edition c...</td>\n",
       "      <td>historical</td>\n",
       "    </tr>\n",
       "    <tr>\n",
       "      <th>4</th>\n",
       "      <td>The war against Voldemort is not going well; e...</td>\n",
       "      <td>fantasy</td>\n",
       "    </tr>\n",
       "    <tr>\n",
       "      <th>...</th>\n",
       "      <td>...</td>\n",
       "      <td>...</td>\n",
       "    </tr>\n",
       "    <tr>\n",
       "      <th>7195</th>\n",
       "      <td>Violetâs sure of three things:\\nâ¢ Its seni...</td>\n",
       "      <td>young-adult</td>\n",
       "    </tr>\n",
       "    <tr>\n",
       "      <th>7196</th>\n",
       "      <td>Perfection comes at a price.\\n\\nAs soon as the...</td>\n",
       "      <td>young-adult</td>\n",
       "    </tr>\n",
       "    <tr>\n",
       "      <th>7197</th>\n",
       "      <td>Oneâ¦ Twoâ¦ Threeâ¦ Fourâ¦\\n\\nI Declare Wa...</td>\n",
       "      <td>fantasy</td>\n",
       "    </tr>\n",
       "    <tr>\n",
       "      <th>7198</th>\n",
       "      <td>Six days ago, astronaut Mark Watney became one...</td>\n",
       "      <td>science-fiction</td>\n",
       "    </tr>\n",
       "    <tr>\n",
       "      <th>7199</th>\n",
       "      <td>In M. John Harrisonâs dangerously illuminati...</td>\n",
       "      <td>science-fiction</td>\n",
       "    </tr>\n",
       "  </tbody>\n",
       "</table>\n",
       "<p>5759 rows × 2 columns</p>\n",
       "</div>"
      ],
      "text/plain": [
       "                                                summary            Genre\n",
       "0     It's no longer safe for Harry at Hogwarts, so ...          fantasy\n",
       "1     Could you survive on your own in the wild, wit...      young-adult\n",
       "2     The unforgettable, heartbreaking story of the ...          fiction\n",
       "3     Librarian's note: An alternate cover edition c...       historical\n",
       "4     The war against Voldemort is not going well; e...          fantasy\n",
       "...                                                 ...              ...\n",
       "7195  Violetâs sure of three things:\\nâ¢ Its seni...      young-adult\n",
       "7196  Perfection comes at a price.\\n\\nAs soon as the...      young-adult\n",
       "7197  Oneâ¦ Twoâ¦ Threeâ¦ Fourâ¦\\n\\nI Declare Wa...          fantasy\n",
       "7198  Six days ago, astronaut Mark Watney became one...  science-fiction\n",
       "7199  In M. John Harrisonâs dangerously illuminati...  science-fiction\n",
       "\n",
       "[5759 rows x 2 columns]"
      ]
     },
     "execution_count": 17,
     "metadata": {},
     "output_type": "execute_result"
    }
   ],
   "source": [
    "df.head()\n",
    "df.astype(str)"
   ]
  },
  {
   "cell_type": "code",
   "execution_count": 18,
   "id": "97a85d68",
   "metadata": {},
   "outputs": [],
   "source": [
    "genre = df['Genre'].tolist()"
   ]
  },
  {
   "cell_type": "code",
   "execution_count": 20,
   "id": "866ed15c",
   "metadata": {},
   "outputs": [
    {
     "data": {
      "text/plain": [
       "5759"
      ]
     },
     "execution_count": 20,
     "metadata": {},
     "output_type": "execute_result"
    }
   ],
   "source": [
    "len(genre)"
   ]
  },
  {
   "cell_type": "code",
   "execution_count": 47,
   "id": "fe28a759",
   "metadata": {},
   "outputs": [],
   "source": [
    "import re\n",
    "def decontracted(phrase):\n",
    "    phrase = re.sub(r\"n\\'t\", \" not\", phrase)\n",
    "    phrase = re.sub(r\"\\'re\", \" are\", phrase)\n",
    "    phrase = re.sub(r\"\\'s\", \" is\", phrase)\n",
    "    phrase = re.sub(r\"\\'d\", \" would\", phrase)\n",
    "    phrase = re.sub(r\"\\'ll\", \" will\", phrase)\n",
    "    phrase = re.sub(r\"\\'t\", \" not\", phrase)\n",
    "    phrase = re.sub(r\"\\'ve\", \" have\", phrase)\n",
    "    phrase = re.sub(r\"\\'m\", \" am\", phrase)\n",
    "    return phrase"
   ]
  },
  {
   "cell_type": "code",
   "execution_count": 48,
   "id": "c551ecd2",
   "metadata": {},
   "outputs": [],
   "source": [
    "stopwords= set(['br', 'the', 'i', 'me', 'my', 'myself', 'we', 'our', 'ours', 'ourselves', 'you', \"you're\", \"you've\",\\\n",
    "            \"you'll\", \"you'd\", 'your', 'yours', 'yourself', 'yourselves', 'he', 'him', 'his', 'himself', \\\n",
    "            'she', \"she's\", 'her', 'hers', 'herself', 'it', \"it's\", 'its', 'itself', 'they', 'them', 'their',\\\n",
    "            'theirs', 'themselves', 'what', 'which', 'who', 'whom', 'this', 'that', \"that'll\", 'these', 'those', \\\n",
    "            'am', 'is', 'are', 'was', 'were', 'be', 'been', 'being', 'have', 'has', 'had', 'having', 'do', 'does', \\\n",
    "            'did', 'doing', 'a', 'an', 'the', 'and', 'but', 'if', 'or', 'because', 'as', 'until', 'while', 'of', \\\n",
    "            'at', 'by', 'for', 'with', 'about', 'against', 'between', 'into', 'through', 'during', 'before', 'after',\\\n",
    "            'above', 'below', 'to', 'from', 'up', 'down', 'in', 'out', 'on', 'off', 'over', 'under', 'again', 'further',\\\n",
    "            'then', 'once', 'here', 'there', 'when', 'where', 'why', 'how', 'all', 'any', 'both', 'each', 'few', 'more',\\\n",
    "            'most', 'other', 'some', 'such', 'only', 'own', 'same', 'so', 'than', 'too', 'very', \\\n",
    "            's', 't', 'can', 'will', 'just', 'don', \"don't\", 'should', \"should've\", 'now', 'd', 'll', 'm', 'o', 're', \\\n",
    "            've', 'y', 'ain', 'aren', \"aren't\", 'couldn', \"couldn't\", 'didn', \"didn't\", 'doesn', \"doesn't\", 'hadn',\\\n",
    "            \"hadn't\", 'hasn', \"hasn't\", 'haven', \"haven't\", 'isn', \"isn't\", 'ma', 'mightn', \"mightn't\", 'mustn',\\\n",
    "            \"mustn't\", 'needn', \"needn't\", 'shan', \"shan't\", 'shouldn', \"shouldn't\", 'wasn', \"wasn't\", 'weren', \"weren't\", \\\n",
    "            'won', \"won't\", 'wouldn', \"wouldn't\"])"
   ]
  },
  {
   "cell_type": "code",
   "execution_count": 49,
   "id": "5d8bce5f",
   "metadata": {},
   "outputs": [
    {
     "name": "stderr",
     "output_type": "stream",
     "text": [
      "100%|████████████████████████████████████████████████████████████████████████████| 5759/5759 [00:05<00:00, 1120.65it/s]\n"
     ]
    }
   ],
   "source": [
    "from bs4 import BeautifulSoup\n",
    "from tqdm import tqdm\n",
    "preprocessed_summary = []\n",
    "for text in tqdm(df['summary'].values):\n",
    "    text = re.sub(r\"http\\S+\", \"\", str(text))\n",
    "    text = BeautifulSoup(text, 'lxml').get_text()\n",
    "    text = decontracted(text)\n",
    "    text = re.sub(\"\\S*\\d\\S*\", \"\", text).strip()\n",
    "    text = re.sub('[^A-Za-z]+', ' ', text)\n",
    "    text = ' '.join(e.lower() for e in text.split() if e.lower() not in stopwords)\n",
    "    preprocessed_summary.append(text.strip())"
   ]
  },
  {
   "cell_type": "code",
   "execution_count": 53,
   "id": "6da5a977",
   "metadata": {},
   "outputs": [
    {
     "data": {
      "text/plain": [
       "5759"
      ]
     },
     "execution_count": 53,
     "metadata": {},
     "output_type": "execute_result"
    }
   ],
   "source": [
    "len(preprocessed_summary)"
   ]
  },
  {
   "cell_type": "code",
   "execution_count": 50,
   "id": "b3c86636",
   "metadata": {},
   "outputs": [
    {
     "data": {
      "text/plain": [
       "'winter night dr david henry forced blizzard deliver twins son born first perfectly healthy yet daughter born sees immediately syndrome rationalizing need protect norah wife makes split second decision alter lives forever asks nurse take winter night dr david henry forced blizzard deliver twins son born first perfectly healthy yet daughter born sees immediately syndrome rationalizing need protect norah wife makes split second decision alter lives forever asks nurse take baby away institution never reveal secret caroline nurse cannot leave infant instead disappears another city raise child begins story unfolds quarter century two families ignorant yet bound fateful decision made long ago winter night norah henry knows daughter died birth remains inconsolable grief weighs heavily marriage paul son raises best house grown cold mourning meanwhile phoebe lost daughter grows sunny child vibrant young woman whose mother loves fiercely'"
      ]
     },
     "execution_count": 50,
     "metadata": {},
     "output_type": "execute_result"
    }
   ],
   "source": [
    "#Printing a random summary\n",
    "preprocessed_summary[67]"
   ]
  },
  {
   "cell_type": "code",
   "execution_count": 58,
   "id": "e8e724d2",
   "metadata": {},
   "outputs": [],
   "source": [
    "i=0\n",
    "list_of_summaries=[]\n",
    "for i in preprocessed_summary:\n",
    "    list_of_summaries.append(i.split())"
   ]
  },
  {
   "cell_type": "code",
   "execution_count": 54,
   "id": "f143e602",
   "metadata": {},
   "outputs": [],
   "source": [
    "df['clean_summary'] = preprocessed_summary\n",
    "df.isna().sum()"
   ]
  },
  {
   "cell_type": "code",
   "execution_count": null,
   "id": "5caadc13",
   "metadata": {},
   "outputs": [],
   "source": []
  },
  {
   "cell_type": "code",
   "execution_count": 62,
   "id": "cd586e68",
   "metadata": {},
   "outputs": [
    {
     "name": "stdout",
     "output_type": "stream",
     "text": [
      "[('pants', 0.9916547536849976), ('buy', 0.9883843660354614), ('teach', 0.9883801341056824), ('catch', 0.9882172346115112), ('bethany', 0.9878074526786804), ('usually', 0.9875310659408569), ('simply', 0.9874577522277832), ('sleep', 0.9872955679893494), ('throw', 0.9869775176048279), ('racing', 0.9866356253623962)]\n",
      "**************************************************\n",
      "[('imaginative', 0.9857005476951599), ('presents', 0.982516884803772), ('beautifully', 0.9821913242340088), ('based', 0.9809738993644714), ('inspired', 0.980826199054718), ('groundbreaking', 0.9793399572372437), ('divergent', 0.9770607948303223), ('canterbury', 0.9758207201957703), ('definitive', 0.975761890411377), ('masterpiece', 0.9749545454978943)]\n"
     ]
    }
   ],
   "source": [
    "from gensim.models import Word2Vec\n",
    "w2v_model=Word2Vec(list_of_summaries,min_count=3,vector_size=50, workers=4)\n",
    "\n",
    "#Printing out vectors for some words\n",
    "print(w2v_model.wv.most_similar('interesting'))\n",
    "print('*'*50)\n",
    "print(w2v_model.wv.most_similar('page'))"
   ]
  },
  {
   "cell_type": "code",
   "execution_count": 63,
   "id": "b7ef289c",
   "metadata": {},
   "outputs": [
    {
     "name": "stdout",
     "output_type": "stream",
     "text": [
      "total number of words in all summaries(that occured atleast thrice) 22630\n",
      "some of these words are:  ['one', 'life', 'not', 'new', 'world', 'love', 'story', 'book', 'novel', 'family', 'first', 'time', 'no', 'years', 'two', 'old', 'man', 'year', 'young', 'people', 'never', 'even', 'author', 'like', 'must', 'lives', 'war', 'would', 'find', 'father', 'way', 'mother', 'back', 'ever', 'york', 'girl', 'woman', 'could', 'home', 'day', 'de', 'best', 'secret', 'us', 'times', 'american', 'past', 'long', 'human', 'three']\n"
     ]
    }
   ],
   "source": [
    "w2v_words = w2v_model.wv.index_to_key\n",
    "vocab_len = len(w2v_model.wv)\n",
    "print(\"total number of words in all summaries(that occured atleast thrice)\",vocab_len)\n",
    "print(\"some of these words are: \", w2v_model.wv.index_to_key[0:50])"
   ]
  },
  {
   "cell_type": "code",
   "execution_count": 64,
   "id": "aa8a4ccf",
   "metadata": {},
   "outputs": [
    {
     "data": {
      "text/plain": [
       "(22630, 50)"
      ]
     },
     "execution_count": 64,
     "metadata": {},
     "output_type": "execute_result"
    }
   ],
   "source": [
    "w2v_model.wv.vectors.shape"
   ]
  },
  {
   "cell_type": "code",
   "execution_count": null,
   "id": "6a306175",
   "metadata": {},
   "outputs": [],
   "source": []
  },
  {
   "cell_type": "code",
   "execution_count": 65,
   "id": "289a8728",
   "metadata": {},
   "outputs": [],
   "source": [
    "# S = [\"abc def pqr\", \"def def def abc\", \"pqr pqr def\"]\n",
    "model = TfidfVectorizer()\n",
    "model.fit(preprocessed_summary)\n",
    "# we are converting a dictionary with word as a key, and the idf as a value\n",
    "dictionary = dict(zip(model.get_feature_names(), list(model.idf_)))"
   ]
  },
  {
   "cell_type": "code",
   "execution_count": 67,
   "id": "e6265e14",
   "metadata": {},
   "outputs": [
    {
     "name": "stderr",
     "output_type": "stream",
     "text": [
      "100%|██████████████████████████████████████████████████████████████████████████████| 5759/5759 [27:38<00:00,  3.47it/s]\n"
     ]
    }
   ],
   "source": [
    "# TF-IDF weighted Word2Vec\n",
    "tfidf_features = model.get_feature_names() # tfidf words/col-names\n",
    "# final_tf_idf is the sparse matrix with row= sentence, col=word and cell_val = tfidf\n",
    "\n",
    "tfidf_sentence_vectors = []; # the tfidf-w2v for each sentence/review is stored in this list\n",
    "row=0;\n",
    "for summary in tqdm(list_of_summaries): # for each review/sentence \n",
    "    sum_vec = np.zeros(50) # as word vectors are of zero length\n",
    "    weight_sum =0; # num of words with a valid vector in the sentence/review\n",
    "    for word in summary: # for each word in w2v_worda review/sentence\n",
    "        if word in w2v_words[0:len(w2v_words)] and word in tfidf_features:\n",
    "            vec = w2v_model.wv[word]  \n",
    "#             tf_idf = tf_idf_matrix[row, tfidf_feat.index(word)]\n",
    "            # to reduce the computation we are \n",
    "            # dictionary[word] = idf value of word in whole courpus\n",
    "            # sent.count(word) = tf valeus of word in this review\n",
    "            tf_idf = dictionary[word]*(summary.count(word)/len(summary))\n",
    "            tfidf_w2v = vec.dot(tf_idf)\n",
    "            sum_vec += tfidf_w2v\n",
    "            weight_sum += tf_idf\n",
    "    if weight_sum != 0:\n",
    "        final_summary_vector = sum_vec/weight_sum\n",
    "    tfidf_sentence_vectors.append(final_summary_vector)\n",
    "    row += 1"
   ]
  },
  {
   "cell_type": "code",
   "execution_count": 69,
   "id": "b4be9169",
   "metadata": {},
   "outputs": [
    {
     "data": {
      "text/plain": [
       "5759"
      ]
     },
     "execution_count": 69,
     "metadata": {},
     "output_type": "execute_result"
    }
   ],
   "source": [
    "len(tfidf_sentence_vectors)"
   ]
  },
  {
   "cell_type": "code",
   "execution_count": 2,
   "id": "ff69b95e",
   "metadata": {},
   "outputs": [],
   "source": [
    "file_name = \"summary_vectors.pkl\""
   ]
  },
  {
   "cell_type": "code",
   "execution_count": 70,
   "id": "3e6f9eae",
   "metadata": {},
   "outputs": [],
   "source": [
    "file = open(file_name, \"wb\")\n",
    "pickle.dump(tfidf_sentence_vectors, file)\n",
    "file.close()"
   ]
  },
  {
   "cell_type": "code",
   "execution_count": 3,
   "id": "628600b4",
   "metadata": {},
   "outputs": [],
   "source": [
    "file = open(file_name, \"rb\")\n",
    "vectors_list = pickle.load(file)\n",
    "file.close()"
   ]
  },
  {
   "cell_type": "code",
   "execution_count": 4,
   "id": "dfc1f094",
   "metadata": {},
   "outputs": [
    {
     "data": {
      "text/plain": [
       "5759"
      ]
     },
     "execution_count": 4,
     "metadata": {},
     "output_type": "execute_result"
    }
   ],
   "source": [
    "len(vectors_list)"
   ]
  },
  {
   "cell_type": "code",
   "execution_count": 73,
   "id": "2be34bc0",
   "metadata": {},
   "outputs": [
    {
     "data": {
      "text/plain": [
       "summary           0\n",
       "Genre             0\n",
       "clean_summary     0\n",
       "summary_vector    0\n",
       "dtype: int64"
      ]
     },
     "execution_count": 73,
     "metadata": {},
     "output_type": "execute_result"
    }
   ],
   "source": [
    "df['summary_vector'] = vectors_list\n",
    "df.isna().sum()"
   ]
  },
  {
   "cell_type": "code",
   "execution_count": 75,
   "id": "bbf56ba1",
   "metadata": {},
   "outputs": [
    {
     "data": {
      "text/html": [
       "<div>\n",
       "<style scoped>\n",
       "    .dataframe tbody tr th:only-of-type {\n",
       "        vertical-align: middle;\n",
       "    }\n",
       "\n",
       "    .dataframe tbody tr th {\n",
       "        vertical-align: top;\n",
       "    }\n",
       "\n",
       "    .dataframe thead th {\n",
       "        text-align: right;\n",
       "    }\n",
       "</style>\n",
       "<table border=\"1\" class=\"dataframe\">\n",
       "  <thead>\n",
       "    <tr style=\"text-align: right;\">\n",
       "      <th></th>\n",
       "      <th>summary</th>\n",
       "      <th>Genre</th>\n",
       "      <th>clean_summary</th>\n",
       "      <th>summary_vector</th>\n",
       "    </tr>\n",
       "  </thead>\n",
       "  <tbody>\n",
       "    <tr>\n",
       "      <th>0</th>\n",
       "      <td>It's no longer safe for Harry at Hogwarts, so ...</td>\n",
       "      <td>fantasy</td>\n",
       "      <td>no longer safe harry hogwarts best friends ron...</td>\n",
       "      <td>[-0.2675593665783395, -0.199968195994287, 0.29...</td>\n",
       "    </tr>\n",
       "    <tr>\n",
       "      <th>1</th>\n",
       "      <td>Could you survive on your own in the wild, wit...</td>\n",
       "      <td>young-adult</td>\n",
       "      <td>could survive wild every one make sure not liv...</td>\n",
       "      <td>[-0.31312476778645093, -0.14755315433847316, 0...</td>\n",
       "    </tr>\n",
       "    <tr>\n",
       "      <th>2</th>\n",
       "      <td>The unforgettable, heartbreaking story of the ...</td>\n",
       "      <td>fiction</td>\n",
       "      <td>unforgettable heartbreaking story unlikely fri...</td>\n",
       "      <td>[0.029256872705477034, 0.4390025424121535, 0.1...</td>\n",
       "    </tr>\n",
       "    <tr>\n",
       "      <th>3</th>\n",
       "      <td>Librarian's note: An alternate cover edition c...</td>\n",
       "      <td>historical</td>\n",
       "      <td>librarian note alternate cover edition found n...</td>\n",
       "      <td>[-0.19804477450831615, -0.016911188453721745, ...</td>\n",
       "    </tr>\n",
       "    <tr>\n",
       "      <th>4</th>\n",
       "      <td>The war against Voldemort is not going well; e...</td>\n",
       "      <td>fantasy</td>\n",
       "      <td>war voldemort not going well even muggle gover...</td>\n",
       "      <td>[-0.22790307719440325, -0.04706283251267159, 0...</td>\n",
       "    </tr>\n",
       "  </tbody>\n",
       "</table>\n",
       "</div>"
      ],
      "text/plain": [
       "                                             summary        Genre  \\\n",
       "0  It's no longer safe for Harry at Hogwarts, so ...      fantasy   \n",
       "1  Could you survive on your own in the wild, wit...  young-adult   \n",
       "2  The unforgettable, heartbreaking story of the ...      fiction   \n",
       "3  Librarian's note: An alternate cover edition c...   historical   \n",
       "4  The war against Voldemort is not going well; e...      fantasy   \n",
       "\n",
       "                                       clean_summary  \\\n",
       "0  no longer safe harry hogwarts best friends ron...   \n",
       "1  could survive wild every one make sure not liv...   \n",
       "2  unforgettable heartbreaking story unlikely fri...   \n",
       "3  librarian note alternate cover edition found n...   \n",
       "4  war voldemort not going well even muggle gover...   \n",
       "\n",
       "                                      summary_vector  \n",
       "0  [-0.2675593665783395, -0.199968195994287, 0.29...  \n",
       "1  [-0.31312476778645093, -0.14755315433847316, 0...  \n",
       "2  [0.029256872705477034, 0.4390025424121535, 0.1...  \n",
       "3  [-0.19804477450831615, -0.016911188453721745, ...  \n",
       "4  [-0.22790307719440325, -0.04706283251267159, 0...  "
      ]
     },
     "execution_count": 75,
     "metadata": {},
     "output_type": "execute_result"
    }
   ],
   "source": [
    "df.head()"
   ]
  },
  {
   "cell_type": "code",
   "execution_count": 21,
   "id": "3d126867",
   "metadata": {},
   "outputs": [],
   "source": [
    "x = vectors_list\n",
    "y = genre"
   ]
  },
  {
   "cell_type": "code",
   "execution_count": 23,
   "id": "d2ca5e22",
   "metadata": {},
   "outputs": [],
   "source": [
    "from sklearn.model_selection import train_test_split\n",
    "from sklearn.neighbors import KNeighborsClassifier\n",
    "from sklearn.metrics import accuracy_score\n",
    "from sklearn.model_selection import cross_val_score"
   ]
  },
  {
   "cell_type": "code",
   "execution_count": 24,
   "id": "6720d9f1",
   "metadata": {},
   "outputs": [],
   "source": [
    "x_train, x_test, y_train, y_test =train_test_split(x,y, test_size=0.2, random_state=0)\n",
    "\n",
    "y_train = np.array(y_train)\n",
    "y_test = np.array(y_test)\n",
    "\n",
    "x_train = np.array(x_train)\n",
    "x_test = np.array(x_test)"
   ]
  },
  {
   "cell_type": "code",
   "execution_count": 25,
   "id": "ab2a283f",
   "metadata": {},
   "outputs": [
    {
     "ename": "NameError",
     "evalue": "name 'k_fold_cross_validation' is not defined",
     "output_type": "error",
     "traceback": [
      "\u001b[1;31m---------------------------------------------------------------------------\u001b[0m",
      "\u001b[1;31mNameError\u001b[0m                                 Traceback (most recent call last)",
      "\u001b[1;32m<ipython-input-25-e5d0cfdb535d>\u001b[0m in \u001b[0;36m<module>\u001b[1;34m\u001b[0m\n\u001b[1;32m----> 1\u001b[1;33m \u001b[0mopt_val\u001b[0m \u001b[1;33m=\u001b[0m \u001b[0mk_fold_cross_validation\u001b[0m\u001b[1;33m(\u001b[0m\u001b[0mx_train\u001b[0m\u001b[1;33m,\u001b[0m\u001b[0my_train\u001b[0m\u001b[1;33m)\u001b[0m\u001b[1;33m\u001b[0m\u001b[1;33m\u001b[0m\u001b[0m\n\u001b[0m",
      "\u001b[1;31mNameError\u001b[0m: name 'k_fold_cross_validation' is not defined"
     ]
    }
   ],
   "source": [
    "opt_val = k_fold_cross_validation(x_train,y_train)"
   ]
  },
  {
   "cell_type": "code",
   "execution_count": null,
   "id": "22a09e20",
   "metadata": {},
   "outputs": [],
   "source": []
  }
 ],
 "metadata": {
  "kernelspec": {
   "display_name": "Python 3",
   "language": "python",
   "name": "python3"
  },
  "language_info": {
   "codemirror_mode": {
    "name": "ipython",
    "version": 3
   },
   "file_extension": ".py",
   "mimetype": "text/x-python",
   "name": "python",
   "nbconvert_exporter": "python",
   "pygments_lexer": "ipython3",
   "version": "3.8.8"
  }
 },
 "nbformat": 4,
 "nbformat_minor": 5
}
